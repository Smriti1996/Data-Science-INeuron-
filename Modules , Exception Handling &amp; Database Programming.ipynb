{
 "cells": [
  {
   "cell_type": "code",
   "execution_count": 9,
   "id": "fc1a0ba1",
   "metadata": {},
   "outputs": [],
   "source": [
    "# 1. Write a function to compute 5/0 and use try/except to catch the exceptions."
   ]
  },
  {
   "cell_type": "code",
   "execution_count": 6,
   "id": "79594bd2",
   "metadata": {},
   "outputs": [],
   "source": [
    "def compute_by_zero(a):\n",
    "    try:\n",
    "        res = a / 0\n",
    "    except ZeroDivisionError:\n",
    "        print(\"Division by 0 is not possible\")"
   ]
  },
  {
   "cell_type": "code",
   "execution_count": 8,
   "id": "0ba1ce95",
   "metadata": {},
   "outputs": [
    {
     "name": "stdout",
     "output_type": "stream",
     "text": [
      "Division by 0 is not possible\n"
     ]
    }
   ],
   "source": [
    "compute_by_zero(5)"
   ]
  },
  {
   "cell_type": "code",
   "execution_count": 10,
   "id": "a5b3e370",
   "metadata": {},
   "outputs": [],
   "source": [
    "# 2. Implement a Python program to generate all sentences where subject is in\n",
    "# [\"Americans\", \"Indians\"] and verb is in [\"Play\", \"watch\"] and the object is in\n",
    "# [\"Baseball\",\"cricket\"]."
   ]
  },
  {
   "cell_type": "code",
   "execution_count": 13,
   "id": "4c174027",
   "metadata": {},
   "outputs": [],
   "source": [
    "subjects=[\"Americans\",\"Indians\"]\n",
    "verbs=[\"play\",\"watch\"]\n",
    "objects=[\"Baseball\",\"Cricket\"]"
   ]
  },
  {
   "cell_type": "code",
   "execution_count": 14,
   "id": "f667967f",
   "metadata": {},
   "outputs": [
    {
     "name": "stdout",
     "output_type": "stream",
     "text": [
      "Americans play Baseball\n",
      "Americans play Cricket\n",
      "Americans watch Baseball\n",
      "Americans watch Cricket\n",
      "Indians play Baseball\n",
      "Indians play Cricket\n",
      "Indians watch Baseball\n",
      "Indians watch Cricket\n"
     ]
    }
   ],
   "source": [
    "for i in subjects:\n",
    "    for j in verbs:\n",
    "        for k in objects:\n",
    "            print(i, j, k)"
   ]
  },
  {
   "cell_type": "code",
   "execution_count": null,
   "id": "bc12b268",
   "metadata": {},
   "outputs": [],
   "source": [
    "def generate_sen_list_words(subjects, verbs, objects):\n",
    "    "
   ]
  }
 ],
 "metadata": {
  "kernelspec": {
   "display_name": "Python 3",
   "language": "python",
   "name": "python3"
  },
  "language_info": {
   "codemirror_mode": {
    "name": "ipython",
    "version": 3
   },
   "file_extension": ".py",
   "mimetype": "text/x-python",
   "name": "python",
   "nbconvert_exporter": "python",
   "pygments_lexer": "ipython3",
   "version": "3.8.8"
  }
 },
 "nbformat": 4,
 "nbformat_minor": 5
}
