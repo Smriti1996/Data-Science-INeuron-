{
 "cells": [
  {
   "cell_type": "code",
   "execution_count": 7,
   "id": "2854f12a",
   "metadata": {},
   "outputs": [],
   "source": [
    "# Write a function so that the columns of the output matrix are powers of the input\n",
    "# vector."
   ]
  },
  {
   "cell_type": "code",
   "execution_count": 1,
   "id": "9aa1eafa",
   "metadata": {},
   "outputs": [],
   "source": [
    "import numpy as np"
   ]
  },
  {
   "cell_type": "code",
   "execution_count": 3,
   "id": "f18a46b2",
   "metadata": {},
   "outputs": [],
   "source": [
    "arr = np.array([1, 2, 3, 4])"
   ]
  },
  {
   "cell_type": "code",
   "execution_count": 5,
   "id": "ce0c3f51",
   "metadata": {},
   "outputs": [],
   "source": [
    "def vander_(arr):\n",
    "    res = np.vander(arr, increasing=True)\n",
    "    return res"
   ]
  },
  {
   "cell_type": "code",
   "execution_count": 6,
   "id": "8e290f81",
   "metadata": {},
   "outputs": [
    {
     "data": {
      "text/plain": [
       "array([[ 1,  1,  1,  1],\n",
       "       [ 1,  2,  4,  8],\n",
       "       [ 1,  3,  9, 27],\n",
       "       [ 1,  4, 16, 64]])"
      ]
     },
     "execution_count": 6,
     "metadata": {},
     "output_type": "execute_result"
    }
   ],
   "source": [
    "vander_(arr)"
   ]
  },
  {
   "cell_type": "code",
   "execution_count": null,
   "id": "136b9fac",
   "metadata": {},
   "outputs": [],
   "source": []
  },
  {
   "cell_type": "code",
   "execution_count": 14,
   "id": "285e145c",
   "metadata": {},
   "outputs": [],
   "source": [
    "def moving_average(l, k):\n",
    "    n = len(l)\n",
    "    res = []\n",
    "    for i in range(n - k + 1):\n",
    "        res.append(sum(l[i:(i+k)]) / k)\n",
    "    return res"
   ]
  },
  {
   "cell_type": "code",
   "execution_count": 15,
   "id": "ac90a06b",
   "metadata": {},
   "outputs": [],
   "source": [
    "l = [10, 20, 30, 40, 50, 60, 70, 80, 90, 100]"
   ]
  },
  {
   "cell_type": "code",
   "execution_count": 16,
   "id": "401f1ac7",
   "metadata": {},
   "outputs": [
    {
     "data": {
      "text/plain": [
       "[25.0, 35.0, 45.0, 55.0, 65.0, 75.0, 85.0]"
      ]
     },
     "execution_count": 16,
     "metadata": {},
     "output_type": "execute_result"
    }
   ],
   "source": [
    "moving_average(l, 4)"
   ]
  },
  {
   "cell_type": "code",
   "execution_count": null,
   "id": "c478528c",
   "metadata": {},
   "outputs": [],
   "source": [
    "l = [[3, 5, 7, 2, 8, 10, 11, 65, 72, 81, 99, 100, 150]"
   ]
  }
 ],
 "metadata": {
  "kernelspec": {
   "display_name": "Python 3",
   "language": "python",
   "name": "python3"
  },
  "language_info": {
   "codemirror_mode": {
    "name": "ipython",
    "version": 3
   },
   "file_extension": ".py",
   "mimetype": "text/x-python",
   "name": "python",
   "nbconvert_exporter": "python",
   "pygments_lexer": "ipython3",
   "version": "3.8.8"
  }
 },
 "nbformat": 4,
 "nbformat_minor": 5
}
