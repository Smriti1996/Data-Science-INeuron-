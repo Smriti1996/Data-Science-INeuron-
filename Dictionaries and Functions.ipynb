{
 "cells": [
  {
   "cell_type": "code",
   "execution_count": 29,
   "id": "a24d842e",
   "metadata": {},
   "outputs": [],
   "source": [
    "# 1.1 Write a Python Program(with class concepts) to find the area of the triangle using the below\n",
    "# formula.\n",
    "# area = (s*(s-a)*(s-b)*(s-c)) ** 0.5\n",
    "# Function to take the length of the sides of triangle from user should be defined in the parent\n",
    "# class and function to calculate the area should be defined in subclass."
   ]
  },
  {
   "cell_type": "code",
   "execution_count": 26,
   "id": "1a35c29f",
   "metadata": {},
   "outputs": [],
   "source": [
    "class dim:\n",
    "    def __init__(self, a, b, c):\n",
    "        self.a = a\n",
    "        self.b = b\n",
    "        self.c = c\n",
    "class cal_area(dim):\n",
    "    def __init__(self, *args):\n",
    "        super(cal_area, self).__init__(*args)\n",
    "    def area(self):\n",
    "        s = (self.a + self.b + self.c) / 2\n",
    "        area = (s * (s - self.a) * (s - self.b) * (s - self.c)) ** 0.5\n",
    "        return area"
   ]
  },
  {
   "cell_type": "code",
   "execution_count": 27,
   "id": "b1c70fb5",
   "metadata": {},
   "outputs": [
    {
     "name": "stdout",
     "output_type": "stream",
     "text": [
      "Enter lenght of one side of triangle: 3\n",
      "Enter lenght of one side of triangle: 4\n",
      "Enter lenght of one side of triangle: 5\n"
     ]
    }
   ],
   "source": [
    "a = int(input(\"Enter lenght of one side of triangle: \"))\n",
    "b = int(input(\"Enter lenght of one side of triangle: \"))\n",
    "c = int(input(\"Enter lenght of one side of triangle: \"))\n",
    "test = cal_area(a, b, c)"
   ]
  },
  {
   "cell_type": "code",
   "execution_count": 28,
   "id": "79b65df6",
   "metadata": {},
   "outputs": [
    {
     "data": {
      "text/plain": [
       "6.0"
      ]
     },
     "execution_count": 28,
     "metadata": {},
     "output_type": "execute_result"
    }
   ],
   "source": [
    "test.area()"
   ]
  },
  {
   "cell_type": "code",
   "execution_count": 33,
   "id": "c04bd9de",
   "metadata": {},
   "outputs": [],
   "source": [
    "# 1.2 Write a function filter_long_words() that takes a list of words and an integer n and returns\n",
    "# the list of words that are longer than n."
   ]
  },
  {
   "cell_type": "code",
   "execution_count": 30,
   "id": "6b7aef5d",
   "metadata": {},
   "outputs": [],
   "source": [
    "def filter_long_words(word_list, n):\n",
    "    res = []\n",
    "    for i in word_list:\n",
    "        if (len(i) > n):\n",
    "            res.append(i)\n",
    "    return res"
   ]
  },
  {
   "cell_type": "code",
   "execution_count": 31,
   "id": "004900dd",
   "metadata": {},
   "outputs": [],
   "source": [
    "word_list = ['smriti', 'singh', 'abcdef', 'abc', 'ghijkl', 'ef']"
   ]
  },
  {
   "cell_type": "code",
   "execution_count": 32,
   "id": "20a81912",
   "metadata": {},
   "outputs": [
    {
     "data": {
      "text/plain": [
       "['smriti', 'singh', 'abcdef', 'ghijkl']"
      ]
     },
     "execution_count": 32,
     "metadata": {},
     "output_type": "execute_result"
    }
   ],
   "source": [
    "filter_long_words(word_list, 4)"
   ]
  },
  {
   "cell_type": "code",
   "execution_count": 46,
   "id": "f231a428",
   "metadata": {},
   "outputs": [],
   "source": [
    "# 2.1 Write a Python program using function concept that maps list of words into a list of integers\n",
    "# representing the lengths of the corresponding words."
   ]
  },
  {
   "cell_type": "code",
   "execution_count": 34,
   "id": "ffed0c6d",
   "metadata": {},
   "outputs": [],
   "source": [
    "def words_len(word_list):\n",
    "    res = []\n",
    "    for i in word_list:\n",
    "        res.append(len(i))\n",
    "    return res"
   ]
  },
  {
   "cell_type": "code",
   "execution_count": 36,
   "id": "f703c29e",
   "metadata": {},
   "outputs": [],
   "source": [
    "word_list = ['ab', 'cde', 'erty']"
   ]
  },
  {
   "cell_type": "code",
   "execution_count": 37,
   "id": "7ed8a6e0",
   "metadata": {},
   "outputs": [
    {
     "data": {
      "text/plain": [
       "[2, 3, 4]"
      ]
     },
     "execution_count": 37,
     "metadata": {},
     "output_type": "execute_result"
    }
   ],
   "source": [
    "words_len(word_list)"
   ]
  },
  {
   "cell_type": "code",
   "execution_count": 47,
   "id": "f601d118",
   "metadata": {},
   "outputs": [],
   "source": [
    "# 2.2 Write a Python function which takes a character (i.e. a string of length 1) and returns True if\n",
    "# it is a vowel, False otherwise."
   ]
  },
  {
   "cell_type": "code",
   "execution_count": 41,
   "id": "43d95800",
   "metadata": {},
   "outputs": [],
   "source": [
    "def vowel(t):\n",
    "    v = ['a', 'e', 'i', 'o', 'u']\n",
    "    if t.lower() in v:\n",
    "        return True\n",
    "    else:\n",
    "        return False"
   ]
  },
  {
   "cell_type": "code",
   "execution_count": 42,
   "id": "f7fb8461",
   "metadata": {},
   "outputs": [
    {
     "data": {
      "text/plain": [
       "True"
      ]
     },
     "execution_count": 42,
     "metadata": {},
     "output_type": "execute_result"
    }
   ],
   "source": [
    "vowel('a')"
   ]
  },
  {
   "cell_type": "code",
   "execution_count": 43,
   "id": "1d75b116",
   "metadata": {},
   "outputs": [
    {
     "data": {
      "text/plain": [
       "False"
      ]
     },
     "execution_count": 43,
     "metadata": {},
     "output_type": "execute_result"
    }
   ],
   "source": [
    "vowel('c')"
   ]
  },
  {
   "cell_type": "code",
   "execution_count": 44,
   "id": "4d0e8691",
   "metadata": {},
   "outputs": [
    {
     "data": {
      "text/plain": [
       "True"
      ]
     },
     "execution_count": 44,
     "metadata": {},
     "output_type": "execute_result"
    }
   ],
   "source": [
    "vowel('A')"
   ]
  },
  {
   "cell_type": "code",
   "execution_count": 45,
   "id": "62ba28d6",
   "metadata": {},
   "outputs": [
    {
     "data": {
      "text/plain": [
       "False"
      ]
     },
     "execution_count": 45,
     "metadata": {},
     "output_type": "execute_result"
    }
   ],
   "source": [
    "vowel('C')"
   ]
  },
  {
   "cell_type": "code",
   "execution_count": null,
   "id": "07c55285",
   "metadata": {},
   "outputs": [],
   "source": []
  }
 ],
 "metadata": {
  "kernelspec": {
   "display_name": "Python 3",
   "language": "python",
   "name": "python3"
  },
  "language_info": {
   "codemirror_mode": {
    "name": "ipython",
    "version": 3
   },
   "file_extension": ".py",
   "mimetype": "text/x-python",
   "name": "python",
   "nbconvert_exporter": "python",
   "pygments_lexer": "ipython3",
   "version": "3.8.8"
  }
 },
 "nbformat": 4,
 "nbformat_minor": 5
}
